{
 "cells": [
  {
   "cell_type": "code",
   "execution_count": null,
   "metadata": {
    "ExecuteTime": {
     "end_time": "2020-09-07T07:56:10.782322Z",
     "start_time": "2020-09-07T07:56:10.435227Z"
    }
   },
   "outputs": [],
   "source": [
    "%load_ext autoreload\n",
    "%autoreload 2\n",
    "%matplotlib inline"
   ]
  },
  {
   "cell_type": "code",
   "execution_count": null,
   "metadata": {
    "ExecuteTime": {
     "end_time": "2020-09-07T07:56:11.036100Z",
     "start_time": "2020-09-07T07:56:10.784696Z"
    }
   },
   "outputs": [],
   "source": [
    "import pandas as pd\n",
    "import matplotlib.pyplot as plt\n",
    "\n",
    "from sensor import BatterySavingSensor\n",
    "\n",
    "plt.rcParams[\"figure.dpi\"] = 100"
   ]
  },
  {
   "cell_type": "markdown",
   "metadata": {},
   "source": [
    "# Load data"
   ]
  },
  {
   "cell_type": "code",
   "execution_count": null,
   "metadata": {
    "ExecuteTime": {
     "end_time": "2020-09-07T07:56:15.820750Z",
     "start_time": "2020-09-07T07:56:11.038140Z"
    }
   },
   "outputs": [],
   "source": [
    "# Read data from parquet file\n",
    "data = pd.read_parquet(\"raw_data_all.parquet\")\n",
    "\n",
    "# For simplicity, select sensor 3\n",
    "data = data[data[\"sensor\"] == \"node_03\"]\n",
    "\n",
    "# Downsample to 1-minute medians\n",
    "data = data.resample(\"1min\").median()\n",
    "\n",
    "# For simplicity, select only week 7\n",
    "data = data[data.index.week.isin([7, 8])]\n",
    "\n",
    "data.head()"
   ]
  },
  {
   "cell_type": "markdown",
   "metadata": {},
   "source": [
    "# Simulate behaviour"
   ]
  },
  {
   "cell_type": "code",
   "execution_count": null,
   "metadata": {
    "ExecuteTime": {
     "end_time": "2020-09-07T07:56:16.513328Z",
     "start_time": "2020-09-07T07:56:15.823484Z"
    }
   },
   "outputs": [],
   "source": [
    "# Create a sensor and simulate behaviour\n",
    "sensor = BatterySavingSensor(max_period=\"3 hour\", deadband=2)\n",
    "sensor.simulate(data[\"Leq\"])"
   ]
  },
  {
   "cell_type": "code",
   "execution_count": null,
   "metadata": {
    "ExecuteTime": {
     "end_time": "2020-09-07T07:56:16.921068Z",
     "start_time": "2020-09-07T07:56:16.515414Z"
    }
   },
   "outputs": [],
   "source": [
    "fig, ax = plt.subplots(2, 1, figsize=(12, 9))\n",
    "resampled = data[\"Leq\"].resample(\"1h\")\n",
    "ax[0].fill_between(\n",
    "    resampled.indices.keys(), resampled.min(), resampled.max(),\n",
    "    alpha=0.3,\n",
    "    label=\"Real world\"\n",
    ")\n",
    "ax[0].plot(sensor.measured, \"g.\", markersize=3, label=\"Measurement\")\n",
    "ax[0].plot(sensor.transmitted, \"r.\", markersize=3, label=\"Transmission\")\n",
    "ax[0].legend(loc=\"upper right\")\n",
    "\n",
    "ax[1].fill_between(\n",
    "    resampled.indices.keys(), resampled.min(), resampled.max(),\n",
    "    alpha=0.3,\n",
    "    label=\"Real world\"\n",
    ")\n",
    "ax[1].step(sensor.transmitted, \"r\", where=\"post\", label=\"Recorded signal\")\n",
    "ax[1].legend(loc=\"upper right\")"
   ]
  },
  {
   "cell_type": "code",
   "execution_count": null,
   "metadata": {
    "ExecuteTime": {
     "end_time": "2020-09-07T07:56:17.137414Z",
     "start_time": "2020-09-07T07:56:16.923321Z"
    }
   },
   "outputs": [],
   "source": [
    "# Resample real and transmitted signal to same frequency\n",
    "real = data[\"Leq\"].resample(\"2s\").median()\n",
    "meas = sensor.transmitted.resample(\"2s\").median().fillna(method='ffill')\n",
    "\n",
    "# RMSE\n",
    "((real - meas)**2).mean()**.5"
   ]
  },
  {
   "cell_type": "code",
   "execution_count": null,
   "metadata": {
    "ExecuteTime": {
     "end_time": "2020-09-07T07:56:17.154527Z",
     "start_time": "2020-09-07T07:56:17.139240Z"
    }
   },
   "outputs": [],
   "source": [
    "# Average period between measurements\n",
    "(data.index[-1] - data.index[0]) / len(sensor.measured) "
   ]
  },
  {
   "cell_type": "code",
   "execution_count": null,
   "metadata": {
    "ExecuteTime": {
     "end_time": "2020-09-07T07:56:17.171812Z",
     "start_time": "2020-09-07T07:56:17.157796Z"
    }
   },
   "outputs": [],
   "source": [
    "# Average period between tranmissions\n",
    "(data.index[-1] - data.index[0]) / len(sensor.transmitted) "
   ]
  },
  {
   "cell_type": "code",
   "execution_count": null,
   "metadata": {},
   "outputs": [],
   "source": []
  }
 ],
 "metadata": {
  "kernelspec": {
   "display_name": "Anaconda_2020.07",
   "language": "python",
   "name": "anaconda_2020.07"
  },
  "language_info": {
   "codemirror_mode": {
    "name": "ipython",
    "version": 3
   },
   "file_extension": ".py",
   "mimetype": "text/x-python",
   "name": "python",
   "nbconvert_exporter": "python",
   "pygments_lexer": "ipython3",
   "version": "3.8.3"
  },
  "toc": {
   "base_numbering": 1,
   "nav_menu": {},
   "number_sections": true,
   "sideBar": true,
   "skip_h1_title": false,
   "title_cell": "Table of Contents",
   "title_sidebar": "Contents",
   "toc_cell": false,
   "toc_position": {},
   "toc_section_display": true,
   "toc_window_display": false
  }
 },
 "nbformat": 4,
 "nbformat_minor": 4
}
