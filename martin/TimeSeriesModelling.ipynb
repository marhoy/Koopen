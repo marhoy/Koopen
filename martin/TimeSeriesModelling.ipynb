{
 "cells": [
  {
   "cell_type": "code",
   "execution_count": null,
   "metadata": {
    "ExecuteTime": {
     "end_time": "2020-09-07T07:57:07.223429Z",
     "start_time": "2020-09-07T07:57:06.928798Z"
    }
   },
   "outputs": [],
   "source": [
    "%load_ext autoreload\n",
    "%autoreload 2\n",
    "%matplotlib inline"
   ]
  },
  {
   "cell_type": "code",
   "execution_count": null,
   "metadata": {
    "ExecuteTime": {
     "end_time": "2020-09-07T07:57:08.206729Z",
     "start_time": "2020-09-07T07:57:07.225396Z"
    }
   },
   "outputs": [],
   "source": [
    "import math\n",
    "\n",
    "import numpy as np\n",
    "import pandas as pd\n",
    "import matplotlib.pyplot as plt\n",
    "\n",
    "import plotly.express as px\n",
    "import plotly.graph_objects as go\n",
    "from plotly.subplots import make_subplots\n",
    "\n",
    "import patsy\n",
    "import statsmodels.api as sm\n",
    "import statsmodels.formula.api as smf\n",
    "from statsmodels.tsa.ar_model import AutoReg\n",
    "\n",
    "plt.rcParams[\"figure.dpi\"] = 100\n",
    "\n",
    "def rms(s: pd.Series) -> float:\n",
    "    return np.sqrt((s**2).mean())"
   ]
  },
  {
   "cell_type": "markdown",
   "metadata": {},
   "source": [
    "# Load data"
   ]
  },
  {
   "cell_type": "code",
   "execution_count": null,
   "metadata": {
    "ExecuteTime": {
     "end_time": "2020-09-07T07:15:47.822378Z",
     "start_time": "2020-09-07T07:14:24.933121Z"
    },
    "deletable": false,
    "editable": false,
    "run_control": {
     "frozen": true
    }
   },
   "outputs": [],
   "source": [
    "from sensor import create_raw_data_file\n",
    "create_raw_data_file()"
   ]
  },
  {
   "cell_type": "code",
   "execution_count": null,
   "metadata": {
    "ExecuteTime": {
     "end_time": "2020-09-07T07:57:12.632885Z",
     "start_time": "2020-09-07T07:57:08.208827Z"
    }
   },
   "outputs": [],
   "source": [
    "# Read all data from parquet file\n",
    "data = pd.read_parquet(\"raw_data_all.parquet\")\n",
    "\n",
    "# For simplicity, select sensor 3\n",
    "data = data[data[\"sensor\"] == \"node_03\"]\n",
    "\n",
    "# Replace 0-measurements with missing\n",
    "data.loc[data[\"Leq\"] == 0, \"Leq\"] = None\n",
    "\n",
    "# For simplicity, downsample to 10 minutes\n",
    "data = data.resample(\"1min\").median()\n",
    "\n",
    "# Forward-fill missing values\n",
    "data = data.fillna(method=\"ffill\")\n",
    "\n",
    "# Add some extra columns\n",
    "data[\"hour\"] = data.index.hour\n",
    "data[\"dow\"] = data.index.dayofweek\n",
    "data[\"workday\"] = (data.index.dayofweek < 5).astype(int)\n",
    "data[\"doy\"] = data.index.dayofyear\n",
    "data[\"week\"] = data.index.week\n",
    "data[\"workhour\"] = data[\"hour\"].isin(range(6,21))*data[\"hour\"]\n",
    "\n",
    "data.head()"
   ]
  },
  {
   "cell_type": "code",
   "execution_count": null,
   "metadata": {
    "ExecuteTime": {
     "end_time": "2020-09-07T07:57:17.609617Z",
     "start_time": "2020-09-07T07:57:12.635794Z"
    }
   },
   "outputs": [],
   "source": [
    "fig = px.line(data, y=\"Leq\", title=f\"Raw data resampled to {data.index.freq.n} minutes\", color=\"week\")\n",
    "fig.show()"
   ]
  },
  {
   "cell_type": "code",
   "execution_count": null,
   "metadata": {
    "ExecuteTime": {
     "end_time": "2020-09-07T07:57:18.870442Z",
     "start_time": "2020-09-07T07:57:17.611698Z"
    }
   },
   "outputs": [],
   "source": [
    "decomposed = sm.tsa.seasonal_decompose(data[\"Leq\"], period=pd.Timedelta(\"24hours\") // data.index.freq)\n",
    "fig = decomposed.plot()\n",
    "fig.set_size_inches(10,10)"
   ]
  },
  {
   "cell_type": "code",
   "execution_count": null,
   "metadata": {
    "ExecuteTime": {
     "end_time": "2020-09-07T07:57:20.253710Z",
     "start_time": "2020-09-07T07:57:18.872572Z"
    }
   },
   "outputs": [],
   "source": [
    "decomposed = sm.tsa.seasonal_decompose(data[\"Leq\"], period=pd.Timedelta(\"1W\") // data.index.freq)\n",
    "fig = decomposed.plot()\n",
    "fig.set_size_inches(10,10)"
   ]
  },
  {
   "cell_type": "code",
   "execution_count": null,
   "metadata": {
    "ExecuteTime": {
     "end_time": "2020-09-07T07:57:20.321956Z",
     "start_time": "2020-09-07T07:57:20.255719Z"
    }
   },
   "outputs": [],
   "source": [
    "# Split in training and test\n",
    "train = data[data[\"week\"].isin([7, 8, 9, 10, 11])]\n",
    "test = data[data[\"week\"].isin([12, 13, 14, 15])]\n",
    "train_test = pd.concat([train, test])\n",
    "train_test.loc[train.index, \"dataset\"] = \"train\"\n",
    "train_test.loc[test.index, \"dataset\"] = \"test\""
   ]
  },
  {
   "cell_type": "markdown",
   "metadata": {},
   "source": [
    "# Linear model"
   ]
  },
  {
   "cell_type": "code",
   "execution_count": null,
   "metadata": {
    "ExecuteTime": {
     "end_time": "2020-09-07T07:57:22.333025Z",
     "start_time": "2020-09-07T07:57:20.324797Z"
    },
    "scrolled": true
   },
   "outputs": [],
   "source": [
    "model_formula = \"C(dow) + C(hour):C(dow)\" # week\"\n",
    "# model_formula = \"C(workday) + C(workhour):C(workday)\"\n",
    "\n",
    "linmodel = smf.ols(formula=f\"Leq ~ {model_formula}\", data=train).fit()\n",
    "linmodel_resid = train_test[\"Leq\"] - linmodel.predict(train_test)\n",
    "linmodel.summary()"
   ]
  },
  {
   "cell_type": "code",
   "execution_count": null,
   "metadata": {
    "ExecuteTime": {
     "end_time": "2020-09-07T07:57:33.584041Z",
     "start_time": "2020-09-07T07:57:22.336148Z"
    }
   },
   "outputs": [],
   "source": [
    "fig = make_subplots(rows=2, cols=1, shared_xaxes=True)\n",
    "fig.add_trace(go.Scatter(x=train.index, y=train[\"Leq\"], name=\"Train\"), row=1, col=1)\n",
    "fig.add_trace(go.Scatter(x=test.index, y=test[\"Leq\"], name=\"Test\"), row=1, col=1)\n",
    "fig.add_trace(go.Scatter(x=train_test.index, y=linmodel.predict(train_test), name=\"Model\"), row=1, col=1)\n",
    "\n",
    "fig.add_trace(go.Scatter(x=train_test.index, y=linmodel_resid, name=\"Residual\"), row=2, col=1)\n",
    "\n",
    "fig.update_layout(\n",
    "    title=\"Linear model results\",\n",
    "    width=1000,\n",
    "    height=800,\n",
    "    hovermode=\"x\"\n",
    ")"
   ]
  },
  {
   "cell_type": "code",
   "execution_count": null,
   "metadata": {
    "ExecuteTime": {
     "end_time": "2020-09-07T07:57:33.631726Z",
     "start_time": "2020-09-07T07:57:33.587137Z"
    }
   },
   "outputs": [],
   "source": [
    "linmodel_resid.groupby(train_test[\"dataset\"]).apply(rms)"
   ]
  },
  {
   "cell_type": "markdown",
   "metadata": {},
   "source": [
    "# ARX model"
   ]
  },
  {
   "cell_type": "code",
   "execution_count": null,
   "metadata": {
    "ExecuteTime": {
     "end_time": "2020-09-07T07:57:35.280471Z",
     "start_time": "2020-09-07T07:57:33.633645Z"
    }
   },
   "outputs": [],
   "source": [
    "fig, ax = plt.subplots(2, 1, figsize=(10, 10))\n",
    "fig = sm.graphics.tsa.plot_acf(linmodel.resid, lags=30, ax=ax[0])\n",
    "fig = sm.graphics.tsa.plot_pacf(linmodel.resid, lags=30, ax=ax[1])"
   ]
  },
  {
   "cell_type": "code",
   "execution_count": null,
   "metadata": {
    "ExecuteTime": {
     "end_time": "2020-09-07T07:57:36.376510Z",
     "start_time": "2020-09-07T07:57:35.283013Z"
    }
   },
   "outputs": [],
   "source": [
    "exog_train = patsy.dmatrix(model_formula, train)\n",
    "exog_test = patsy.dmatrix(model_formula, test)"
   ]
  },
  {
   "cell_type": "code",
   "execution_count": null,
   "metadata": {
    "ExecuteTime": {
     "end_time": "2020-09-07T07:57:36.405340Z",
     "start_time": "2020-09-07T07:57:36.378234Z"
    }
   },
   "outputs": [],
   "source": [
    "lags = math.ceil(pd.Timedelta(\"4min\") / train.index.freq)\n",
    "lags"
   ]
  },
  {
   "cell_type": "code",
   "execution_count": null,
   "metadata": {
    "ExecuteTime": {
     "end_time": "2020-09-07T07:57:37.650976Z",
     "start_time": "2020-09-07T07:57:36.407706Z"
    }
   },
   "outputs": [],
   "source": [
    "arxmodel = AutoReg(endog=train[\"Leq\"], lags=lags, exog=exog_train).fit()\n",
    "arxmodel_pred = pd.concat([\n",
    "    arxmodel.predict(),\n",
    "    arxmodel.predict(start=test.index[0], end=test.index[-1], exog_oos=exog_test)\n",
    "])\n",
    "arxmodel_resid = train_test[\"Leq\"] - arxmodel_pred"
   ]
  },
  {
   "cell_type": "code",
   "execution_count": null,
   "metadata": {
    "ExecuteTime": {
     "end_time": "2020-09-07T07:57:48.208108Z",
     "start_time": "2020-09-07T07:57:37.652770Z"
    }
   },
   "outputs": [],
   "source": [
    "fig = make_subplots(rows=2, cols=1, shared_xaxes=True)\n",
    "fig.add_trace(go.Scatter(x=train.index, y=train[\"Leq\"], name=\"Train\"), row=1, col=1)\n",
    "fig.add_trace(go.Scatter(x=test.index, y=test[\"Leq\"], name=\"Test\"), row=1, col=1)\n",
    "fig.add_trace(go.Scatter(x=train_test.index, y=arxmodel_pred, name=\"Model\"), row=1, col=1)\n",
    "\n",
    "fig.add_trace(go.Scatter(x=train_test.index, y=arxmodel_resid, name=\"Residual\"), row=2, col=1)\n",
    "\n",
    "fig.update_layout(\n",
    "    title=\"ARX model results\",\n",
    "    width=1000,\n",
    "    height=800,\n",
    "    hovermode=\"x\"\n",
    ")"
   ]
  },
  {
   "cell_type": "code",
   "execution_count": null,
   "metadata": {
    "ExecuteTime": {
     "end_time": "2020-09-07T07:57:48.260069Z",
     "start_time": "2020-09-07T07:57:48.210023Z"
    }
   },
   "outputs": [],
   "source": [
    "arxmodel_resid.groupby(train_test[\"dataset\"]).apply(rms)"
   ]
  },
  {
   "cell_type": "markdown",
   "metadata": {},
   "source": [
    "# Model comparison"
   ]
  },
  {
   "cell_type": "code",
   "execution_count": null,
   "metadata": {
    "ExecuteTime": {
     "end_time": "2020-09-07T07:57:59.431303Z",
     "start_time": "2020-09-07T07:57:48.261977Z"
    }
   },
   "outputs": [],
   "source": [
    "fig = make_subplots(rows=1, cols=1, shared_xaxes=True)\n",
    "fig.add_trace(go.Scatter(x=train_test.index, y=train_test[\"Leq\"], name=\"Measured\"), row=1, col=1)\n",
    "fig.add_trace(go.Scatter(x=train_test.index, y=linmodel.predict(train_test), name=\"LinModel\"), row=1, col=1)\n",
    "fig.add_trace(go.Scatter(x=train_test.index, y=arxmodel_pred, name=\"ARXModel\"), row=1, col=1)\n",
    "fig.update_layout(\n",
    "    title=\"Model comparison\",\n",
    "    hovermode=\"x\"\n",
    ")"
   ]
  },
  {
   "cell_type": "markdown",
   "metadata": {},
   "source": [
    "# ARX with dynamic forecasting"
   ]
  },
  {
   "cell_type": "code",
   "execution_count": null,
   "metadata": {
    "ExecuteTime": {
     "end_time": "2020-09-07T07:58:02.228004Z",
     "start_time": "2020-09-07T07:57:59.434841Z"
    }
   },
   "outputs": [],
   "source": [
    "exog = patsy.dmatrix(model_formula, train_test)\n",
    "model = AutoReg(endog=train_test[\"Leq\"], lags=lags, exog=exog).fit()"
   ]
  },
  {
   "cell_type": "code",
   "execution_count": null,
   "metadata": {
    "ExecuteTime": {
     "end_time": "2020-09-07T07:58:04.068043Z",
     "start_time": "2020-09-07T07:58:02.230120Z"
    }
   },
   "outputs": [],
   "source": [
    "forecast_period = pd.Timedelta(\"3hour\")\n",
    "\n",
    "t = train_test.index[0] + forecast_period\n",
    "preds = pd.Series(dtype=float)\n",
    "while t < train_test.index[-1] - forecast_period:\n",
    "    preds = preds.append(model.predict(start=t, end=t + forecast_period, dynamic=t))\n",
    "    t += forecast_period"
   ]
  },
  {
   "cell_type": "code",
   "execution_count": null,
   "metadata": {
    "ExecuteTime": {
     "end_time": "2020-09-07T07:58:11.206666Z",
     "start_time": "2020-09-07T07:58:04.069798Z"
    }
   },
   "outputs": [],
   "source": [
    "fig = make_subplots(rows=1, cols=1, shared_xaxes=True)\n",
    "fig.add_trace(go.Scatter(x=train_test.index, y=train_test[\"Leq\"], name=\"Measured\"), row=1, col=1)\n",
    "fig.add_trace(go.Scatter(x=preds.index, y=preds, name=\"ARX Forecast\"), row=1, col=1)\n",
    "fig.update_layout(\n",
    "    title=\"Dynamic ARX forecasting\",\n",
    "    hovermode=\"x\"\n",
    ")"
   ]
  },
  {
   "cell_type": "code",
   "execution_count": null,
   "metadata": {
    "ExecuteTime": {
     "end_time": "2020-09-07T07:58:11.250040Z",
     "start_time": "2020-09-07T07:58:11.210404Z"
    }
   },
   "outputs": [],
   "source": [
    "resid = train_test[\"Leq\"] - preds\n",
    "rms(resid)"
   ]
  },
  {
   "cell_type": "code",
   "execution_count": null,
   "metadata": {},
   "outputs": [],
   "source": []
  }
 ],
 "metadata": {
  "kernelspec": {
   "display_name": "Anaconda_2020.07",
   "language": "python",
   "name": "anaconda_2020.07"
  },
  "language_info": {
   "codemirror_mode": {
    "name": "ipython",
    "version": 3
   },
   "file_extension": ".py",
   "mimetype": "text/x-python",
   "name": "python",
   "nbconvert_exporter": "python",
   "pygments_lexer": "ipython3",
   "version": "3.8.3"
  },
  "toc": {
   "base_numbering": 1,
   "nav_menu": {},
   "number_sections": true,
   "sideBar": true,
   "skip_h1_title": false,
   "title_cell": "Table of Contents",
   "title_sidebar": "Contents",
   "toc_cell": false,
   "toc_position": {
    "height": "calc(100% - 180px)",
    "left": "10px",
    "top": "150px",
    "width": "229px"
   },
   "toc_section_display": true,
   "toc_window_display": true
  }
 },
 "nbformat": 4,
 "nbformat_minor": 4
}
